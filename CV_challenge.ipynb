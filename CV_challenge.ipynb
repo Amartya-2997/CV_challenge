{
  "nbformat": 4,
  "nbformat_minor": 0,
  "metadata": {
    "colab": {
      "name": "CV_challenge.ipynb",
      "version": "0.3.2",
      "provenance": [],
      "collapsed_sections": [],
      "include_colab_link": true
    },
    "kernelspec": {
      "name": "python3",
      "display_name": "Python 3"
    }
  },
  "cells": [
    {
      "cell_type": "markdown",
      "metadata": {
        "id": "view-in-github",
        "colab_type": "text"
      },
      "source": [
        "<a href=\"https://colab.research.google.com/github/Amartya-2997/CV_challenge/blob/master/CV_challenge.ipynb\" target=\"_parent\"><img src=\"https://colab.research.google.com/assets/colab-badge.svg\" alt=\"Open In Colab\"/></a>"
      ]
    },
    {
      "metadata": {
        "id": "cWo4D50aiV9r",
        "colab_type": "code",
        "colab": {}
      },
      "cell_type": "code",
      "source": [
        "!pip install pytesseract\n",
        "!ls\n",
        "!pip install tesseract\n",
        "!apt-get install tesseract-ocr"
      ],
      "execution_count": 0,
      "outputs": []
    },
    {
      "metadata": {
        "id": "CFoqrN3v7MnT",
        "colab_type": "code",
        "colab": {}
      },
      "cell_type": "code",
      "source": [
        "import pytesseract\n",
        "from PIL import Image\n",
        "#pytesseract.image_to_string\n",
        "text = pytesseract.image_to_string(Image.open('5.jpg'),lang='eng')\n",
        "#os.remove(ch)\n",
        "#directory = os.path.join(\"C://Users/Amartya/Documents\")\n",
        "#with open(directory+\"/\"+\"res\"+\".txt\",'w') as f: f.write(str(text))\n",
        "from google.colab import files\n",
        "\n",
        "with open('example.txt', 'w') as f:\n",
        "  f.write(text)\n",
        "\n",
        "files.download('example.txt')"
      ],
      "execution_count": 0,
      "outputs": []
    },
    {
      "metadata": {
        "id": "l1G5wegP-LSu",
        "colab_type": "code",
        "colab": {}
      },
      "cell_type": "code",
      "source": [
        "from google.colab import drive\n",
        "drive.mount('/content/gdrive')\n",
        "\n"
      ],
      "execution_count": 0,
      "outputs": []
    },
    {
      "metadata": {
        "id": "WEgS5ux7-3Pe",
        "colab_type": "code",
        "colab": {}
      },
      "cell_type": "code",
      "source": [
        "import pytesseract\n",
        "from google.colab import files\n",
        "from PIL import Image\n",
        "res=[]\n",
        "#pytesseract.image_to_string\n",
        "for i in range(1,11):\n",
        "  text = pytesseract.image_to_string(Image.open(\"/content/gdrive/My Drive/OTH-M/80/\"+str(i)+\".jpg\"),lang='eng')\n",
        "  res.append(text)"
      ],
      "execution_count": 0,
      "outputs": []
    },
    {
      "metadata": {
        "id": "W3PXoaCQl-La",
        "colab_type": "code",
        "colab": {}
      },
      "cell_type": "code",
      "source": [
        "with open('example3.txt', 'w') as f:\n",
        "    for i in range(0,len(res)):\n",
        "      f.write(\"Transaction number------>\\t\")\n",
        "      print('\\n',i)\n",
        "      print(res[i])\n",
        "      f.write(str(i+1))\n",
        "      f.write('\\n')\n",
        "      f.write(res[i])\n",
        "      f.write('\\n')\n",
        "      f.write(\"--------------------------------------------------------------------------------\\n\")\n",
        "files.download('example3.txt')"
      ],
      "execution_count": 0,
      "outputs": []
    },
    {
      "metadata": {
        "id": "J3ILjZsEoOu3",
        "colab_type": "code",
        "colab": {}
      },
      "cell_type": "code",
      "source": [
        "import re\n",
        "  "
      ],
      "execution_count": 0,
      "outputs": []
    },
    {
      "metadata": {
        "id": "hCeo-g18dOgm",
        "colab_type": "code",
        "colab": {
          "base_uri": "https://localhost:8080/",
          "height": 54
        },
        "outputId": "04e1d9cf-a113-4997-c340-1a580b7ae146"
      },
      "cell_type": "code",
      "source": [
        "res[0]"
      ],
      "execution_count": 47,
      "outputs": [
        {
          "output_type": "execute_result",
          "data": {
            "text/plain": [
              "\"CARGO MANIFEST\\nISSUED BY:\\nPOWER AIRFREIGHT LTD.\\n\\nFreight Building East\\nCH-8058 Zurich ~- Airport\\n\\nCONSIGNEE:\\nJEHENA & CO.\\n\\nPAGE BY: 1\\n\\nDATE:\\n\\n06.07.18\\n\\nCONTACT :\\n\\n3RD FLOOR, SEWA CORPORATE PARK,\\n\\nM.G. MALL ROAD, NEAR\\nIN-122002 GURGAON ¢\\n\\nCARRIER:\\nAIRPORT OF DESTINATION:\\n\\nHAWB-NO: DST: NO OF\\nPCS:\\nPOW-40172882 DEL 1\\n\\nPAF.130849.1\\n\\nIFFCO CHOWK\\n\\nCH/RA/00153-01, Code: SPX/KC\\n\\nShipper: Uster Technologi\\nSonnenbergstrass\\nCH-8610 Uster\\n\\nTOTAL: 1\\n\\nPHONE:\\nFAX:\\n\\nINDIA\\nQATAR MASTER-AIRWAYBILL NO: 157-46637194\\nDEL FLIGHT NO / DATE: QR 094/07.07.18\\nQR 578/08.07.18\\n/\\nNATURE OF GOODS: GROSS WEIGHT MARKS AND NUMBERS:\\n(KILO):\\n'USTER' POLYPROPYLENE Six LO DCM TEXTILES\\nOPTIONS FOR USTER LTD. VIA NEW\\nQUANTUM-3 CLEARERS DELHI\\nINSTALLED ON WINDING\\nMACHINES\\nes AG Consignee: DCM Textiles\\n\\ne 10\\n\\n(A Unit of DCM Limited)\\n\\nNear Mela Ground\\n\\nPost Box No. 59\\n\\nIN-125001 Hissar, Haryana, India\""
            ]
          },
          "metadata": {
            "tags": []
          },
          "execution_count": 47
        }
      ]
    },
    {
      "metadata": {
        "id": "zceeyJhTsIZ2",
        "colab_type": "code",
        "colab": {}
      },
      "cell_type": "code",
      "source": [
        "reg = \"(\\nDATE\\n).*[0-9]{2}[.][0-9]{2}[0-9]{2}\"\n",
        "print(re.findall(r\"(DATE:\\n\\n[0-9]{2}[.][0-9]{2}[.][0-9]{2})\",res[0]))\n",
        "print(re.findall(r\"(POW-[0-9]+\\s)\",res[0]))\n",
        "print(re.findall(r\"(NATURE OF GOODS:)\",res[0]))"
      ],
      "execution_count": 0,
      "outputs": []
    },
    {
      "metadata": {
        "id": "V9Ou1V38MFmw",
        "colab_type": "code",
        "colab": {}
      },
      "cell_type": "code",
      "source": [
        ""
      ],
      "execution_count": 0,
      "outputs": []
    }
  ]
}